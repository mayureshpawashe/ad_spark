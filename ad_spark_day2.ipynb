{
  "nbformat": 4,
  "nbformat_minor": 0,
  "metadata": {
    "colab": {
      "provenance": [],
      "authorship_tag": "ABX9TyP7wor31l9WUsQT32m0gT7J",
      "include_colab_link": true
    },
    "kernelspec": {
      "name": "python3",
      "display_name": "Python 3"
    },
    "language_info": {
      "name": "python"
    }
  },
  "cells": [
    {
      "cell_type": "markdown",
      "metadata": {
        "id": "view-in-github",
        "colab_type": "text"
      },
      "source": [
        "<a href=\"https://colab.research.google.com/github/mayureshpawashe/ad_spark/blob/main/ad_spark_day2.ipynb\" target=\"_parent\"><img src=\"https://colab.research.google.com/assets/colab-badge.svg\" alt=\"Open In Colab\"/></a>"
      ]
    },
    {
      "cell_type": "markdown",
      "source": [
        "##Data Aggregation and Joins\n",
        "Day 2"
      ],
      "metadata": {
        "id": "M4p4NijasuhR"
      }
    },
    {
      "cell_type": "code",
      "execution_count": 5,
      "metadata": {
        "colab": {
          "base_uri": "https://localhost:8080/"
        },
        "id": "YHVH389TksF-",
        "outputId": "c4d0c1ec-c142-495e-c45f-a14b8dc35714"
      },
      "outputs": [
        {
          "output_type": "stream",
          "name": "stdout",
          "text": [
            "+------------+------------+----+-------+\n",
            "|Country Name|Country Code|Year|  Value|\n",
            "+------------+------------+----+-------+\n",
            "|       Aruba|         ABW|1960|54922.0|\n",
            "|       Aruba|         ABW|1961|55578.0|\n",
            "|       Aruba|         ABW|1962|56320.0|\n",
            "|       Aruba|         ABW|1963|57002.0|\n",
            "|       Aruba|         ABW|1964|57619.0|\n",
            "+------------+------------+----+-------+\n",
            "only showing top 5 rows\n",
            "\n"
          ]
        }
      ],
      "source": [
        "import urllib.request\n",
        "from pyspark.sql import SparkSession\n",
        "spark = SparkSession.builder.appName('Spark Training').getOrCreate()\n",
        "url = \"https://raw.githubusercontent.com/datasets/population/main/data/population.csv\"\n",
        "file_path = \"/tmp/population.csv\"\n",
        "urllib.request.urlretrieve(url, file_path)\n",
        "df = spark.read.csv(file_path, header=True, inferSchema=True)\n",
        "df.show(5)\n"
      ]
    },
    {
      "cell_type": "code",
      "source": [
        "# Count of Years\n",
        "df.select('Year').distinct().groupBy().count().show()"
      ],
      "metadata": {
        "colab": {
          "base_uri": "https://localhost:8080/"
        },
        "id": "zqK-S7OWsLlj",
        "outputId": "8a1a0542-c9b6-4910-cc7d-1c338ddce800"
      },
      "execution_count": 6,
      "outputs": [
        {
          "output_type": "stream",
          "name": "stdout",
          "text": [
            "+-----+\n",
            "|count|\n",
            "+-----+\n",
            "|   64|\n",
            "+-----+\n",
            "\n"
          ]
        }
      ]
    },
    {
      "cell_type": "markdown",
      "source": [
        "##Spark Filter Data"
      ],
      "metadata": {
        "id": "NpMmFDQstab4"
      }
    },
    {
      "cell_type": "code",
      "source": [
        "from pyspark.sql.functions import col\n",
        "df.filter((col('Country Name') == 'India') & (col('Year').isin('2015','2016'))).show()"
      ],
      "metadata": {
        "colab": {
          "base_uri": "https://localhost:8080/"
        },
        "id": "DH3_fPHHtGRq",
        "outputId": "7f304787-5fd0-458d-8cf5-f3fa46f024e9"
      },
      "execution_count": 8,
      "outputs": [
        {
          "output_type": "stream",
          "name": "stdout",
          "text": [
            "+------------+------------+----+-------------+\n",
            "|Country Name|Country Code|Year|        Value|\n",
            "+------------+------------+----+-------------+\n",
            "|       India|         IND|2015|1.328024498E9|\n",
            "|       India|         IND|2016|1.343944296E9|\n",
            "+------------+------------+----+-------------+\n",
            "\n"
          ]
        }
      ]
    },
    {
      "cell_type": "code",
      "source": [
        "df.select('Country Name').orderBy('Country Name', ascending=False).distinct().show(truncate=False)"
      ],
      "metadata": {
        "colab": {
          "base_uri": "https://localhost:8080/"
        },
        "id": "Z9O8c5mMts8n",
        "outputId": "af54d016-4d75-4bab-b5cb-94a20278bffa"
      },
      "execution_count": 9,
      "outputs": [
        {
          "output_type": "stream",
          "name": "stdout",
          "text": [
            "+--------------------------------------------+\n",
            "|Country Name                                |\n",
            "+--------------------------------------------+\n",
            "|South Asia                                  |\n",
            "|Chad                                        |\n",
            "|Lower middle income                         |\n",
            "|Paraguay                                    |\n",
            "|Low & middle income                         |\n",
            "|Heavily indebted poor countries (HIPC)      |\n",
            "|World                                       |\n",
            "|Congo, Dem. Rep.                            |\n",
            "|Senegal                                     |\n",
            "|Cabo Verde                                  |\n",
            "|Sweden                                      |\n",
            "|East Asia & Pacific (IDA & IBRD countries)  |\n",
            "|Kiribati                                    |\n",
            "|Least developed countries: UN classification|\n",
            "|Guyana                                      |\n",
            "|Eritrea                                     |\n",
            "|Philippines                                 |\n",
            "|Pacific island small states                 |\n",
            "|Djibouti                                    |\n",
            "|Tonga                                       |\n",
            "+--------------------------------------------+\n",
            "only showing top 20 rows\n",
            "\n"
          ]
        }
      ]
    },
    {
      "cell_type": "code",
      "source": [
        "# Count of Years\n",
        "df.select('Year').distinct().groupBy().count().show()"
      ],
      "metadata": {
        "colab": {
          "base_uri": "https://localhost:8080/"
        },
        "id": "qvoye75ux-nX",
        "outputId": "1149d2ff-6d4a-4715-eb63-d9d003f8f5dd"
      },
      "execution_count": 10,
      "outputs": [
        {
          "output_type": "stream",
          "name": "stdout",
          "text": [
            "+-----+\n",
            "|count|\n",
            "+-----+\n",
            "|   64|\n",
            "+-----+\n",
            "\n"
          ]
        }
      ]
    },
    {
      "cell_type": "markdown",
      "source": [
        "##Group and Aggregate Data\n",
        "Find the Average Value per Country"
      ],
      "metadata": {
        "id": "ggr0_LKW52AV"
      }
    },
    {
      "cell_type": "code",
      "source": [
        "from pyspark.sql.functions import avg\n",
        "\n",
        "df.groupBy(\"Country Name\").agg(avg(\"Value\").alias(\"Avg Value\")).show()"
      ],
      "metadata": {
        "colab": {
          "base_uri": "https://localhost:8080/"
        },
        "id": "kX2xEem453o_",
        "outputId": "5a9c627e-a3f6-437e-c138-c9674783d4f6"
      },
      "execution_count": 12,
      "outputs": [
        {
          "output_type": "stream",
          "name": "stdout",
          "text": [
            "+--------------------+-------------------+\n",
            "|        Country Name|          Avg Value|\n",
            "+--------------------+-------------------+\n",
            "|          South Asia|  1.2133345478125E9|\n",
            "|                Chad|       8040221.1875|\n",
            "| Lower middle income| 1.83420376521875E9|\n",
            "|            Paraguay|     4215777.890625|\n",
            "| Low & middle income|4.258080837546875E9|\n",
            "|Heavily indebted ...|     4.3425936975E8|\n",
            "|               World|  5.4587022159375E9|\n",
            "|    Congo, Dem. Rep.|  4.5710188265625E7|\n",
            "|             Senegal|     8870310.578125|\n",
            "|          Cabo Verde|        391508.9375|\n",
            "|              Sweden|     8753814.609375|\n",
            "|East Asia & Pacif...|   1.567344636625E9|\n",
            "|            Kiribati|        81998.15625|\n",
            "|Least developed c...|     5.9735165275E8|\n",
            "|              Guyana|        741505.5625|\n",
            "|             Eritrea|     2083260.234375|\n",
            "|         Philippines|  6.7997814796875E7|\n",
            "|Pacific island sm...|      1792425.40625|\n",
            "|            Djibouti|        573017.6875|\n",
            "|               Tonga|       96705.234375|\n",
            "+--------------------+-------------------+\n",
            "only showing top 20 rows\n",
            "\n"
          ]
        }
      ]
    },
    {
      "cell_type": "markdown",
      "source": [
        "Find the Maximum Value per Country"
      ],
      "metadata": {
        "id": "Th1AslWB6hz4"
      }
    },
    {
      "cell_type": "code",
      "source": [
        "from pyspark.sql.functions import max\n",
        "\n",
        "df.groupBy(\"Country Name\").agg(max(\"Value\").alias(\"Max Value\")).show()\n"
      ],
      "metadata": {
        "colab": {
          "base_uri": "https://localhost:8080/"
        },
        "id": "-Or_jFhh6lPv",
        "outputId": "31107399-3de2-40da-c220-2707a8e71eee"
      },
      "execution_count": 13,
      "outputs": [
        {
          "output_type": "stream",
          "name": "stdout",
          "text": [
            "+--------------------+-------------+\n",
            "|        Country Name|    Max Value|\n",
            "+--------------------+-------------+\n",
            "|          South Asia|1.951539835E9|\n",
            "|                Chad|  1.9319064E7|\n",
            "| Lower middle income| 3.07977878E9|\n",
            "|            Paraguay|    6844146.0|\n",
            "| Low & middle income|6.633109634E9|\n",
            "|Heavily indebted ...| 9.17304254E8|\n",
            "|               World|8.061876001E9|\n",
            "|    Congo, Dem. Rep.| 1.05789731E8|\n",
            "|             Senegal|  1.8077573E7|\n",
            "|          Cabo Verde|     522331.0|\n",
            "|              Sweden|  1.0536632E7|\n",
            "|East Asia & Pacif...|2.111139152E9|\n",
            "|            Kiribati|     132530.0|\n",
            "|Least developed c...|1.161055545E9|\n",
            "|              Guyana|     826353.0|\n",
            "|             Eritrea|    3470390.0|\n",
            "|         Philippines| 1.14891199E8|\n",
            "|Pacific island sm...|    2689224.0|\n",
            "|            Djibouti|    1152944.0|\n",
            "|               Tonga|     107570.0|\n",
            "+--------------------+-------------+\n",
            "only showing top 20 rows\n",
            "\n"
          ]
        }
      ]
    },
    {
      "cell_type": "markdown",
      "source": [
        "##Sort Data"
      ],
      "metadata": {
        "id": "7rTuvzsyETJ9"
      }
    },
    {
      "cell_type": "code",
      "source": [
        "#Sort Countries by Value in Descending Order\n",
        "df.orderBy(df[\"Value\"].desc()).show()"
      ],
      "metadata": {
        "colab": {
          "base_uri": "https://localhost:8080/"
        },
        "id": "b8KGZcoUESFa",
        "outputId": "faa782a9-52b5-4bbf-f35c-5b3edf0b9563"
      },
      "execution_count": 14,
      "outputs": [
        {
          "output_type": "stream",
          "name": "stdout",
          "text": [
            "+----------------+------------+----+--------------+\n",
            "|    Country Name|Country Code|Year|         Value|\n",
            "+----------------+------------+----+--------------+\n",
            "|           World|         WLD|2023| 8.061876001E9|\n",
            "|           World|         WLD|2022|7.9899815195E9|\n",
            "|           World|         WLD|2021| 7.921184346E9|\n",
            "|           World|         WLD|2020|7.8561387895E9|\n",
            "|           World|         WLD|2019| 7.776892015E9|\n",
            "|           World|         WLD|2018|7.6964948475E9|\n",
            "|           World|         WLD|2017|7.6141135515E9|\n",
            "|           World|         WLD|2016|7.5285233335E9|\n",
            "|           World|         WLD|2015|7.4414717205E9|\n",
            "|           World|         WLD|2014|7.3539109255E9|\n",
            "|           World|         WLD|2013| 7.265314967E9|\n",
            "|           World|         WLD|2012| 7.175816385E9|\n",
            "|           World|         WLD|2011|7.0862016635E9|\n",
            "|           World|         WLD|2010| 7.000671233E9|\n",
            "|           World|         WLD|2009| 6.916129027E9|\n",
            "|IDA & IBRD total|         IBT|2023| 6.858957145E9|\n",
            "|           World|         WLD|2008| 6.830129091E9|\n",
            "|IDA & IBRD total|         IBT|2022|6.7952222915E9|\n",
            "|           World|         WLD|2007|6.7441714615E9|\n",
            "|IDA & IBRD total|         IBT|2021|  6.73333754E9|\n",
            "+----------------+------------+----+--------------+\n",
            "only showing top 20 rows\n",
            "\n"
          ]
        }
      ]
    },
    {
      "cell_type": "markdown",
      "source": [
        "##Sort by Year in Ascending Order"
      ],
      "metadata": {
        "id": "dMC33y-4Eg2P"
      }
    },
    {
      "cell_type": "code",
      "source": [
        "df.orderBy(df[\"Year\"].asc()).show()"
      ],
      "metadata": {
        "colab": {
          "base_uri": "https://localhost:8080/"
        },
        "id": "NIDyeiGWElAL",
        "outputId": "d48d083e-eb71-437c-f362-19084816ecbe"
      },
      "execution_count": 18,
      "outputs": [
        {
          "output_type": "stream",
          "name": "stdout",
          "text": [
            "+--------------------+------------+----+-----------+\n",
            "|        Country Name|Country Code|Year|      Value|\n",
            "+--------------------+------------+----+-----------+\n",
            "|      American Samoa|         ASM|1960|    20133.0|\n",
            "|   Brunei Darussalam|         BRN|1960|    88347.0|\n",
            "| Antigua and Barbuda|         ATG|1960|    55603.0|\n",
            "|             Armenia|         ARM|1960|  1863705.0|\n",
            "|           Australia|         AUS|1960|1.0276477E7|\n",
            "|Africa Western an...|         AFW|1960|9.7630925E7|\n",
            "|             Austria|         AUT|1960|  7047539.0|\n",
            "|Africa Eastern an...|         AFE|1960|1.3007208E8|\n",
            "|          Azerbaijan|         AZE|1960|  3894500.0|\n",
            "|             Andorra|         AND|1960|     9510.0|\n",
            "|             Burundi|         BDI|1960|  2764258.0|\n",
            "|United Arab Emirates|         ARE|1960|   131334.0|\n",
            "|             Belgium|         BEL|1960|  9153489.0|\n",
            "|            Bulgaria|         BGR|1960|  7867374.0|\n",
            "|             Bahrain|         BHR|1960|   165477.0|\n",
            "|             Albania|         ALB|1960|  1608800.0|\n",
            "|        Bahamas, The|         BHS|1960|   116317.0|\n",
            "|              Angola|         AGO|1960|  5231654.0|\n",
            "|Bosnia and Herzeg...|         BIH|1960|  3281381.0|\n",
            "|          Arab World|         ARB|1960|9.1540853E7|\n",
            "+--------------------+------------+----+-----------+\n",
            "only showing top 20 rows\n",
            "\n"
          ]
        }
      ]
    },
    {
      "cell_type": "markdown",
      "source": [
        "##Joins\n",
        "create two sample dataframes\n"
      ],
      "metadata": {
        "id": "-JJHLQrRKgmK"
      }
    },
    {
      "cell_type": "code",
      "source": [
        "from pyspark.sql import SparkSession\n",
        "spark = SparkSession.builder.appName(\"JoinExample\").getOrCreate()\n",
        "\n",
        "# Define sales dataset\n",
        "sales_data = [\n",
        "    (1, 101, \"Laptop\", 2, 1200),\n",
        "    (2, 102, \"Phone\", 1, 800),\n",
        "    (3, 103, \"Tablet\", 3, 500),\n",
        "    (4, 104, \"Monitor\", 2, 300),\n",
        "    (5, 105, \"Keyboard\", 5, 100),\n",
        "    (6, 106, \"Mouse\", 4, 50),\n",
        "    (7, 107, \"Speaker\", 1, 200),\n",
        "    (8, 108, \"Camera\", 2, 500),\n",
        "    (9, 109, \"Headset\", 3, 150),\n",
        "    (10, 110, \"Charger\", 6, 50)\n",
        "]\n",
        "\n",
        "sales_columns = [\"sale_id\", \"customer_id\", \"product\", \"quantity\", \"price\"]\n",
        "df_sales = spark.createDataFrame(sales_data, sales_columns)\n",
        "\n",
        "# Define customers dataset\n",
        "customers_data = [\n",
        "    (101, \"Alice\", \"USA\", 25, \"F\"),\n",
        "    (102, \"Bob\", \"UK\", 30, \"M\"),\n",
        "    (103, \"Charlie\", \"India\", 35, \"M\"),\n",
        "    (104, \"David\", \"Canada\", 40, \"M\"),\n",
        "    (105, \"Eva\", \"Germany\", 29, \"F\"),\n",
        "    (111, \"Frank\", \"USA\", 50, \"M\"),\n",
        "    (112, \"Grace\", \"UK\", 27, \"F\"),\n",
        "    (113, \"Henry\", \"India\", 22, \"M\"),\n",
        "    (114, \"Ivy\", \"Canada\", 45, \"F\"),\n",
        "    (115, \"Jack\", \"Germany\", 38, \"M\")\n",
        "]\n",
        "\n",
        "customers_columns = [\"customer_id\", \"name\", \"country\", \"age\", \"gender\"]\n",
        "df_customers = spark.createDataFrame(customers_data, customers_columns)\n",
        "\n",
        "\n",
        "df_sales.show(10)\n",
        "df_customers.show(10)\n"
      ],
      "metadata": {
        "colab": {
          "base_uri": "https://localhost:8080/"
        },
        "id": "umhxfHswKig2",
        "outputId": "1879e18f-798e-4dc9-89c7-e03813f4cf02"
      },
      "execution_count": 19,
      "outputs": [
        {
          "output_type": "stream",
          "name": "stdout",
          "text": [
            "+-------+-----------+--------+--------+-----+\n",
            "|sale_id|customer_id| product|quantity|price|\n",
            "+-------+-----------+--------+--------+-----+\n",
            "|      1|        101|  Laptop|       2| 1200|\n",
            "|      2|        102|   Phone|       1|  800|\n",
            "|      3|        103|  Tablet|       3|  500|\n",
            "|      4|        104| Monitor|       2|  300|\n",
            "|      5|        105|Keyboard|       5|  100|\n",
            "|      6|        106|   Mouse|       4|   50|\n",
            "|      7|        107| Speaker|       1|  200|\n",
            "|      8|        108|  Camera|       2|  500|\n",
            "|      9|        109| Headset|       3|  150|\n",
            "|     10|        110| Charger|       6|   50|\n",
            "+-------+-----------+--------+--------+-----+\n",
            "\n",
            "+-----------+-------+-------+---+------+\n",
            "|customer_id|   name|country|age|gender|\n",
            "+-----------+-------+-------+---+------+\n",
            "|        101|  Alice|    USA| 25|     F|\n",
            "|        102|    Bob|     UK| 30|     M|\n",
            "|        103|Charlie|  India| 35|     M|\n",
            "|        104|  David| Canada| 40|     M|\n",
            "|        105|    Eva|Germany| 29|     F|\n",
            "|        111|  Frank|    USA| 50|     M|\n",
            "|        112|  Grace|     UK| 27|     F|\n",
            "|        113|  Henry|  India| 22|     M|\n",
            "|        114|    Ivy| Canada| 45|     F|\n",
            "|        115|   Jack|Germany| 38|     M|\n",
            "+-----------+-------+-------+---+------+\n",
            "\n"
          ]
        }
      ]
    },
    {
      "cell_type": "markdown",
      "source": [
        "##let's perform Inner Join, Left Join, Right Join, and Full Outer Join using **customer_id** as the key."
      ],
      "metadata": {
        "id": "iHbic-szOPFi"
      }
    },
    {
      "cell_type": "markdown",
      "source": [
        "### Inner Join (Only Matching Records)"
      ],
      "metadata": {
        "id": "mVgAGNXEOVfC"
      }
    },
    {
      "cell_type": "code",
      "source": [
        "df_inner = df_sales.join(df_customers, \"customer_id\", \"inner\")\n",
        "df_inner.show(20)"
      ],
      "metadata": {
        "colab": {
          "base_uri": "https://localhost:8080/"
        },
        "id": "AgTZJx3-OP1z",
        "outputId": "f9b8e56c-dfea-42cf-d4e7-8127e1175001"
      },
      "execution_count": 20,
      "outputs": [
        {
          "output_type": "stream",
          "name": "stdout",
          "text": [
            "+-----------+-------+--------+--------+-----+-------+-------+---+------+\n",
            "|customer_id|sale_id| product|quantity|price|   name|country|age|gender|\n",
            "+-----------+-------+--------+--------+-----+-------+-------+---+------+\n",
            "|        101|      1|  Laptop|       2| 1200|  Alice|    USA| 25|     F|\n",
            "|        102|      2|   Phone|       1|  800|    Bob|     UK| 30|     M|\n",
            "|        103|      3|  Tablet|       3|  500|Charlie|  India| 35|     M|\n",
            "|        104|      4| Monitor|       2|  300|  David| Canada| 40|     M|\n",
            "|        105|      5|Keyboard|       5|  100|    Eva|Germany| 29|     F|\n",
            "+-----------+-------+--------+--------+-----+-------+-------+---+------+\n",
            "\n"
          ]
        }
      ]
    },
    {
      "cell_type": "markdown",
      "source": [
        "###Left Join (All from Left, Matching from Right)"
      ],
      "metadata": {
        "id": "yv-0XT2pPU-V"
      }
    },
    {
      "cell_type": "code",
      "source": [
        "df_left = df_sales.join(df_customers, \"customer_id\", \"left\")\n",
        "df_left.show(20)"
      ],
      "metadata": {
        "colab": {
          "base_uri": "https://localhost:8080/"
        },
        "id": "5h6AX5otPXYj",
        "outputId": "cabed76e-5ed0-49d7-ff36-f9ea7a93e22a"
      },
      "execution_count": 21,
      "outputs": [
        {
          "output_type": "stream",
          "name": "stdout",
          "text": [
            "+-----------+-------+--------+--------+-----+-------+-------+----+------+\n",
            "|customer_id|sale_id| product|quantity|price|   name|country| age|gender|\n",
            "+-----------+-------+--------+--------+-----+-------+-------+----+------+\n",
            "|        103|      3|  Tablet|       3|  500|Charlie|  India|  35|     M|\n",
            "|        104|      4| Monitor|       2|  300|  David| Canada|  40|     M|\n",
            "|        105|      5|Keyboard|       5|  100|    Eva|Germany|  29|     F|\n",
            "|        101|      1|  Laptop|       2| 1200|  Alice|    USA|  25|     F|\n",
            "|        102|      2|   Phone|       1|  800|    Bob|     UK|  30|     M|\n",
            "|        110|     10| Charger|       6|   50|   NULL|   NULL|NULL|  NULL|\n",
            "|        107|      7| Speaker|       1|  200|   NULL|   NULL|NULL|  NULL|\n",
            "|        106|      6|   Mouse|       4|   50|   NULL|   NULL|NULL|  NULL|\n",
            "|        108|      8|  Camera|       2|  500|   NULL|   NULL|NULL|  NULL|\n",
            "|        109|      9| Headset|       3|  150|   NULL|   NULL|NULL|  NULL|\n",
            "+-----------+-------+--------+--------+-----+-------+-------+----+------+\n",
            "\n"
          ]
        }
      ]
    },
    {
      "cell_type": "markdown",
      "source": [
        "###Right Join (All from Right, Matching from Left)"
      ],
      "metadata": {
        "id": "_m5sLscTgBsX"
      }
    },
    {
      "cell_type": "code",
      "source": [
        "df_right = df_sales.join(df_customers, \"customer_id\", \"right\")\n",
        "df_right.show(20)"
      ],
      "metadata": {
        "colab": {
          "base_uri": "https://localhost:8080/"
        },
        "id": "G2lycfKfgG_L",
        "outputId": "849a91fc-dd2d-4370-ccc8-f27dd0dd64d9"
      },
      "execution_count": 22,
      "outputs": [
        {
          "output_type": "stream",
          "name": "stdout",
          "text": [
            "+-----------+-------+--------+--------+-----+-------+-------+---+------+\n",
            "|customer_id|sale_id| product|quantity|price|   name|country|age|gender|\n",
            "+-----------+-------+--------+--------+-----+-------+-------+---+------+\n",
            "|        103|      3|  Tablet|       3|  500|Charlie|  India| 35|     M|\n",
            "|        104|      4| Monitor|       2|  300|  David| Canada| 40|     M|\n",
            "|        105|      5|Keyboard|       5|  100|    Eva|Germany| 29|     F|\n",
            "|        101|      1|  Laptop|       2| 1200|  Alice|    USA| 25|     F|\n",
            "|        102|      2|   Phone|       1|  800|    Bob|     UK| 30|     M|\n",
            "|        112|   NULL|    NULL|    NULL| NULL|  Grace|     UK| 27|     F|\n",
            "|        113|   NULL|    NULL|    NULL| NULL|  Henry|  India| 22|     M|\n",
            "|        114|   NULL|    NULL|    NULL| NULL|    Ivy| Canada| 45|     F|\n",
            "|        115|   NULL|    NULL|    NULL| NULL|   Jack|Germany| 38|     M|\n",
            "|        111|   NULL|    NULL|    NULL| NULL|  Frank|    USA| 50|     M|\n",
            "+-----------+-------+--------+--------+-----+-------+-------+---+------+\n",
            "\n"
          ]
        }
      ]
    },
    {
      "cell_type": "markdown",
      "source": [
        "###Full Outer Join: Returns all rows from both DataFrames."
      ],
      "metadata": {
        "id": "k3UDfsiCk_YN"
      }
    },
    {
      "cell_type": "code",
      "source": [
        "df_outer = df_sales.join(df_customers, \"customer_id\", \"outer\")\n",
        "df_outer.show(20)"
      ],
      "metadata": {
        "colab": {
          "base_uri": "https://localhost:8080/"
        },
        "id": "PIEzEtpHkytb",
        "outputId": "cea2bb6d-eea2-4e7f-a2db-bcbb554b068f"
      },
      "execution_count": 23,
      "outputs": [
        {
          "output_type": "stream",
          "name": "stdout",
          "text": [
            "+-----------+-------+--------+--------+-----+-------+-------+----+------+\n",
            "|customer_id|sale_id| product|quantity|price|   name|country| age|gender|\n",
            "+-----------+-------+--------+--------+-----+-------+-------+----+------+\n",
            "|        101|      1|  Laptop|       2| 1200|  Alice|    USA|  25|     F|\n",
            "|        102|      2|   Phone|       1|  800|    Bob|     UK|  30|     M|\n",
            "|        103|      3|  Tablet|       3|  500|Charlie|  India|  35|     M|\n",
            "|        104|      4| Monitor|       2|  300|  David| Canada|  40|     M|\n",
            "|        105|      5|Keyboard|       5|  100|    Eva|Germany|  29|     F|\n",
            "|        106|      6|   Mouse|       4|   50|   NULL|   NULL|NULL|  NULL|\n",
            "|        107|      7| Speaker|       1|  200|   NULL|   NULL|NULL|  NULL|\n",
            "|        108|      8|  Camera|       2|  500|   NULL|   NULL|NULL|  NULL|\n",
            "|        109|      9| Headset|       3|  150|   NULL|   NULL|NULL|  NULL|\n",
            "|        110|     10| Charger|       6|   50|   NULL|   NULL|NULL|  NULL|\n",
            "|        111|   NULL|    NULL|    NULL| NULL|  Frank|    USA|  50|     M|\n",
            "|        112|   NULL|    NULL|    NULL| NULL|  Grace|     UK|  27|     F|\n",
            "|        113|   NULL|    NULL|    NULL| NULL|  Henry|  India|  22|     M|\n",
            "|        114|   NULL|    NULL|    NULL| NULL|    Ivy| Canada|  45|     F|\n",
            "|        115|   NULL|    NULL|    NULL| NULL|   Jack|Germany|  38|     M|\n",
            "+-----------+-------+--------+--------+-----+-------+-------+----+------+\n",
            "\n"
          ]
        }
      ]
    },
    {
      "cell_type": "code",
      "source": [
        "df1 = df.select('Country Name', 'Country Code').distinct()\n",
        "df1.count()"
      ],
      "metadata": {
        "colab": {
          "base_uri": "https://localhost:8080/"
        },
        "id": "4zPiGmK2utDE",
        "outputId": "cf970b43-e7a4-47eb-9ca7-b3682e00ad61"
      },
      "execution_count": 25,
      "outputs": [
        {
          "output_type": "execute_result",
          "data": {
            "text/plain": [
              "265"
            ]
          },
          "metadata": {},
          "execution_count": 25
        }
      ]
    },
    {
      "cell_type": "code",
      "source": [
        "df2 = df.select(col('Country Code').alias('ctry_cd'), 'Value', 'Year').distinct()\n",
        "df2.count()"
      ],
      "metadata": {
        "colab": {
          "base_uri": "https://localhost:8080/"
        },
        "id": "DcPA00jDA85I",
        "outputId": "cbe2d8be-6f26-4ea8-9269-ef11b0bb2ab3"
      },
      "execution_count": 30,
      "outputs": [
        {
          "output_type": "execute_result",
          "data": {
            "text/plain": [
              "16930"
            ]
          },
          "metadata": {},
          "execution_count": 30
        }
      ]
    },
    {
      "cell_type": "code",
      "source": [
        "# Combine 2 Dataframes\n",
        "df1 = df.orderBy('Country Code').limit(10)\n",
        "df2 = df.orderBy('Country Code', ascending=False).limit(10)\n",
        "df1.union(df2).show()"
      ],
      "metadata": {
        "colab": {
          "base_uri": "https://localhost:8080/"
        },
        "id": "o5dT73pLB2rJ",
        "outputId": "9511f72f-2f4e-4fe6-81d4-f64bb61cea9d"
      },
      "execution_count": 31,
      "outputs": [
        {
          "output_type": "stream",
          "name": "stdout",
          "text": [
            "+------------+------------+----+---------+\n",
            "|Country Name|Country Code|Year|    Value|\n",
            "+------------+------------+----+---------+\n",
            "|       Aruba|         ABW|1960|  54922.0|\n",
            "|       Aruba|         ABW|1961|  55578.0|\n",
            "|       Aruba|         ABW|1962|  56320.0|\n",
            "|       Aruba|         ABW|1963|  57002.0|\n",
            "|       Aruba|         ABW|1964|  57619.0|\n",
            "|       Aruba|         ABW|1965|  58190.0|\n",
            "|       Aruba|         ABW|1966|  58694.0|\n",
            "|       Aruba|         ABW|1967|  58990.0|\n",
            "|       Aruba|         ABW|1968|  59069.0|\n",
            "|       Aruba|         ABW|1969|  59052.0|\n",
            "|    Zimbabwe|         ZWE|1960|3809389.0|\n",
            "|    Zimbabwe|         ZWE|1969|5058181.0|\n",
            "|    Zimbabwe|         ZWE|1961|3930401.0|\n",
            "|    Zimbabwe|         ZWE|1962|4055959.0|\n",
            "|    Zimbabwe|         ZWE|1963|4185877.0|\n",
            "|    Zimbabwe|         ZWE|1964|4320006.0|\n",
            "|    Zimbabwe|         ZWE|1965|4458462.0|\n",
            "|    Zimbabwe|         ZWE|1966|4601217.0|\n",
            "|    Zimbabwe|         ZWE|1967|4748307.0|\n",
            "|    Zimbabwe|         ZWE|1968|4900440.0|\n",
            "+------------+------------+----+---------+\n",
            "\n"
          ]
        }
      ]
    },
    {
      "cell_type": "code",
      "source": [],
      "metadata": {
        "id": "SchYVO19D8Se"
      },
      "execution_count": null,
      "outputs": []
    }
  ]
}