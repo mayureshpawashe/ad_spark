{
  "nbformat": 4,
  "nbformat_minor": 0,
  "metadata": {
    "colab": {
      "provenance": [],
      "authorship_tag": "ABX9TyPhlGAs+W+rbEP0Nk2v3IR0",
      "include_colab_link": true
    },
    "kernelspec": {
      "name": "python3",
      "display_name": "Python 3"
    },
    "language_info": {
      "name": "python"
    }
  },
  "cells": [
    {
      "cell_type": "markdown",
      "metadata": {
        "id": "view-in-github",
        "colab_type": "text"
      },
      "source": [
        "<a href=\"https://colab.research.google.com/github/mayureshpawashe/ad_spark/blob/main/ad_spark_day4.ipynb\" target=\"_parent\"><img src=\"https://colab.research.google.com/assets/colab-badge.svg\" alt=\"Open In Colab\"/></a>"
      ]
    },
    {
      "cell_type": "code",
      "execution_count": 20,
      "metadata": {
        "colab": {
          "base_uri": "https://localhost:8080/"
        },
        "id": "VUUtNlw8zlez",
        "outputId": "6318cb10-8100-451c-e479-21e2be2b2b46"
      },
      "outputs": [
        {
          "output_type": "stream",
          "name": "stdout",
          "text": [
            "+----+------+----------+----+--------+-------+--------+-------+-------+--------+\n",
            "|  id|gender|     bdate|educ|  jobcat| salary|salbegin|jobtime|prevexp|minority|\n",
            "+----+------+----------+----+--------+-------+--------+-------+-------+--------+\n",
            "| 1.0|  Male|1952-02-03|  15| Manager|57000.0| 27000.0|   98.0|  144.0|      No|\n",
            "| 2.0|  Male|1958-05-23|  16|Clerical|40200.0| 18750.0|   98.0|   36.0|      No|\n",
            "| 3.0|Female|1929-07-26|  12|Clerical|21450.0| 12000.0|   98.0|  381.0|      No|\n",
            "| 4.0|Female|1947-04-15|   8|Clerical|21900.0| 13200.0|   98.0|  190.0|      No|\n",
            "| 5.0|  Male|1955-02-09|  15|Clerical|45000.0| 21000.0|   98.0|  138.0|      No|\n",
            "| 6.0|  Male|1958-08-22|  15|Clerical|32100.0| 13500.0|   98.0|   67.0|      No|\n",
            "| 7.0|  Male|1956-04-26|  15|Clerical|36000.0| 18750.0|   98.0|  114.0|      No|\n",
            "| 8.0|Female|1966-05-06|  12|Clerical|21900.0|  9750.0|   98.0|missing|      No|\n",
            "| 9.0|Female|1946-01-23|  15|Clerical|27900.0| 12750.0|   98.0|  115.0|      No|\n",
            "|10.0|Female|1946-02-13|  12|Clerical|24000.0| 13500.0|   98.0|  244.0|      No|\n",
            "+----+------+----------+----+--------+-------+--------+-------+-------+--------+\n",
            "only showing top 10 rows\n",
            "\n"
          ]
        }
      ],
      "source": [
        "import urllib.request\n",
        "from pyspark.sql import SparkSession\n",
        "spark = SparkSession.builder.appName('Ad Spark day3 ').getOrCreate()\n",
        "url = \"https://raw.githubusercontent.com/prasertcbs/basic-dataset/refs/heads/master/Employee%20data.csv\"\n",
        "file_path = \"/tmp/EMP_data.csv\"\n",
        "urllib.request.urlretrieve(url, file_path)\n",
        "df = spark.read.csv(file_path, header=True, inferSchema=True)\n",
        "df.show(10)"
      ]
    },
    {
      "cell_type": "markdown",
      "source": [
        "##Using cache()"
      ],
      "metadata": {
        "id": "KekW3S4d_Ggy"
      }
    },
    {
      "cell_type": "code",
      "source": [
        "# Cache the DataFrame\n",
        "df.cache()"
      ],
      "metadata": {
        "colab": {
          "base_uri": "https://localhost:8080/"
        },
        "id": "N_sML2P-4m6L",
        "outputId": "0129416a-7fe3-433a-f4ad-d67adee9e0d6"
      },
      "execution_count": 3,
      "outputs": [
        {
          "output_type": "execute_result",
          "data": {
            "text/plain": [
              "DataFrame[id: double, gender: string, bdate: date, educ: int, jobcat: string, salary: double, salbegin: double, jobtime: double, prevexp: string, minority: string]"
            ]
          },
          "metadata": {},
          "execution_count": 3
        }
      ]
    },
    {
      "cell_type": "code",
      "source": [
        "# Perform an action before and after caching\n",
        "import time\n",
        "start_time = time.time()\n",
        "df.count()  # Action to trigger computation\n",
        "print(\"Time before caching:\", time.time() - start_time)\n",
        "\n",
        "start_time = time.time()\n",
        "df.count()  # This time, data is read from cache\n",
        "print(\"Time after caching:\", time.time() - start_time)"
      ],
      "metadata": {
        "colab": {
          "base_uri": "https://localhost:8080/"
        },
        "id": "vmXQXg1x8LlA",
        "outputId": "740dd7ca-04a1-40c8-b048-fbcfe5d81eda"
      },
      "execution_count": 4,
      "outputs": [
        {
          "output_type": "stream",
          "name": "stdout",
          "text": [
            "Time before caching: 1.4852211475372314\n",
            "Time after caching: 0.45963573455810547\n"
          ]
        }
      ]
    },
    {
      "cell_type": "markdown",
      "source": [
        "##Using persist()"
      ],
      "metadata": {
        "id": "g73eYfVl_L6K"
      }
    },
    {
      "cell_type": "code",
      "source": [
        "from pyspark import StorageLevel\n",
        "\n",
        "# Persist DataFrame in memory and disk\n",
        "df.persist(StorageLevel.MEMORY_AND_DISK)\n",
        "\n",
        "# Measure time before persisting\n",
        "start_time = time.time()\n",
        "df.count()  # Trigger an action\n",
        "print(\"Time before persisting:\", time.time() - start_time)\n",
        "\n",
        "# Measure time after persisting\n",
        "start_time = time.time()\n",
        "df.count()  # Data is now read from persisted storage\n",
        "print(\"Time after persisting:\", time.time() - start_time)\n"
      ],
      "metadata": {
        "colab": {
          "base_uri": "https://localhost:8080/"
        },
        "id": "JuqE43c__OxX",
        "outputId": "0385ff83-d823-47ac-8555-666e42dd2e9e"
      },
      "execution_count": 5,
      "outputs": [
        {
          "output_type": "stream",
          "name": "stdout",
          "text": [
            "Time before persisting: 0.2648754119873047\n",
            "Time after persisting: 0.2920198440551758\n"
          ]
        }
      ]
    },
    {
      "cell_type": "markdown",
      "source": [
        "#🚀 persist() can be faster than cache()"
      ],
      "metadata": {
        "id": "ET9kdVjX_hdm"
      }
    },
    {
      "cell_type": "markdown",
      "source": [
        "##Repartitioning and Coalescing"
      ],
      "metadata": {
        "id": "saq5tCy2dsJo"
      }
    },
    {
      "cell_type": "code",
      "source": [
        "# Check the current number of partitions\n",
        "print(\"Initial Partitions:\", df.rdd.getNumPartitions())\n",
        "\n",
        "# Increase the number of partitions\n",
        "df_repartitioned = df.repartition(5)\n",
        "print(\"Partitions after repartitioning:\", df_repartitioned.rdd.getNumPartitions())\n",
        "\n",
        "# Reduce the number of partitions using coalesce (efficient for downsizing)\n",
        "df_coalesced = df_repartitioned.coalesce(2)\n",
        "print(\"Partitions after coalescing:\", df_coalesced.rdd.getNumPartitions())"
      ],
      "metadata": {
        "colab": {
          "base_uri": "https://localhost:8080/"
        },
        "id": "a7O3ixNx_jFg",
        "outputId": "a64a61be-d73e-415a-d8ed-d5f6bdd2bb3f"
      },
      "execution_count": 7,
      "outputs": [
        {
          "output_type": "stream",
          "name": "stdout",
          "text": [
            "Initial Partitions: 1\n",
            "Partitions after repartitioning: 5\n",
            "Partitions after coalescing: 2\n"
          ]
        }
      ]
    },
    {
      "cell_type": "code",
      "source": [
        "data = [(\"James\", \"Sales\", 3000),\n",
        "        (\"Michael\", \"Sales\", 4600),\n",
        "        (\"Robert\", \"Sales\", 4100),\n",
        "        (\"Maria\", \"Finance\", 3000),\n",
        "        (\"James\", \"Sales\", 3000),\n",
        "        (\"Scott\", \"Finance\", 3300),\n",
        "        (\"Jen\", \"Finance\", 3900),\n",
        "        (\"Jeff\", \"Marketing\", 3000),\n",
        "        (\"Kumar\", \"Marketing\", 2000),\n",
        "        (\"Saif\", \"Sales\", 4100)]\n",
        "columns = [\"Employee_Name\", \"Department\", \"Salary\"]\n",
        "df1 = spark.createDataFrame(data=data, schema=columns)\n",
        "\n",
        "# Original number of partitions\n",
        "original_partitions = df.rdd.getNumPartitions()\n",
        "print(f\"Original number of partitions: {original_partitions}\")\n",
        "\n",
        "# Repartition to increase the number of partitions\n",
        "repartitioned_df = df.repartition(6)\n",
        "new_partitions = repartitioned_df.rdd.getNumPartitions()\n",
        "print(f\"New number of partitions after repartition: {new_partitions}\")"
      ],
      "metadata": {
        "colab": {
          "base_uri": "https://localhost:8080/"
        },
        "id": "I5koB_aUyU38",
        "outputId": "bc01645c-2a1d-42bb-bc82-b004746ecdb4"
      },
      "execution_count": 11,
      "outputs": [
        {
          "output_type": "stream",
          "name": "stdout",
          "text": [
            "Original number of partitions: 1\n",
            "New number of partitions after repartition: 6\n"
          ]
        }
      ]
    },
    {
      "cell_type": "markdown",
      "source": [
        "##Common Optimization Techniques for PySpark DataFrames"
      ],
      "metadata": {
        "id": "7JINa6EwtC7X"
      }
    },
    {
      "cell_type": "markdown",
      "source": [
        "###Use select() Instead of * (Column Pruning)"
      ],
      "metadata": {
        "id": "EGrWnWEe2eSz"
      }
    },
    {
      "cell_type": "code",
      "source": [
        "#df_all = df.select(\"*\").show()  # Avoid selecting unnecessary columns\n",
        "\n",
        "df_selected = df.select(\"id\", \"salary\", \"jobcat\").show()"
      ],
      "metadata": {
        "colab": {
          "base_uri": "https://localhost:8080/"
        },
        "id": "tZc725FPtEJ2",
        "outputId": "9b95009f-f06a-46b4-d114-022ac8e3e15f"
      },
      "execution_count": 10,
      "outputs": [
        {
          "output_type": "stream",
          "name": "stdout",
          "text": [
            "+----+--------+--------+\n",
            "|  id|  salary|  jobcat|\n",
            "+----+--------+--------+\n",
            "| 1.0| 57000.0| Manager|\n",
            "| 2.0| 40200.0|Clerical|\n",
            "| 3.0| 21450.0|Clerical|\n",
            "| 4.0| 21900.0|Clerical|\n",
            "| 5.0| 45000.0|Clerical|\n",
            "| 6.0| 32100.0|Clerical|\n",
            "| 7.0| 36000.0|Clerical|\n",
            "| 8.0| 21900.0|Clerical|\n",
            "| 9.0| 27900.0|Clerical|\n",
            "|10.0| 24000.0|Clerical|\n",
            "|11.0| 30300.0|Clerical|\n",
            "|12.0| 28350.0|Clerical|\n",
            "|13.0| 27750.0|Clerical|\n",
            "|14.0| 35100.0|Clerical|\n",
            "|15.0| 27300.0|Clerical|\n",
            "|16.0| 40800.0|Clerical|\n",
            "|17.0| 46000.0|Clerical|\n",
            "|18.0|103750.0| Manager|\n",
            "|19.0| 42300.0|Clerical|\n",
            "|20.0| 26250.0|Clerical|\n",
            "+----+--------+--------+\n",
            "only showing top 20 rows\n",
            "\n"
          ]
        }
      ]
    },
    {
      "cell_type": "markdown",
      "source": [],
      "metadata": {
        "id": "08l-Bmzjt6xz"
      }
    },
    {
      "cell_type": "markdown",
      "source": [
        "##Filter Data Early (Predicate Pushdown)"
      ],
      "metadata": {
        "id": "qBloae3d2jtj"
      }
    },
    {
      "cell_type": "code",
      "source": [
        "#df_filtered = df.select(\"*\").filter(df.salary > 50000)  # Delayed filtering\n",
        "\n",
        "df_filtered = df.filter(df.salary > 50000).show(5)  # Push filter early"
      ],
      "metadata": {
        "colab": {
          "base_uri": "https://localhost:8080/"
        },
        "id": "PWLr92Rf2pqO",
        "outputId": "0ba4fc88-1c0d-49e3-9071-81783ad6d85a"
      },
      "execution_count": 14,
      "outputs": [
        {
          "output_type": "stream",
          "name": "stdout",
          "text": [
            "+----+------+----------+----+-------+--------+--------+-------+-------+--------+\n",
            "|  id|gender|     bdate|educ| jobcat|  salary|salbegin|jobtime|prevexp|minority|\n",
            "+----+------+----------+----+-------+--------+--------+-------+-------+--------+\n",
            "| 1.0|  Male|1952-02-03|  15|Manager| 57000.0| 27000.0|   98.0|  144.0|      No|\n",
            "|18.0|  Male|1956-03-20|  16|Manager|103750.0| 27510.0|   97.0|   70.0|      No|\n",
            "|27.0|  Male|1954-03-19|  19|Manager| 60375.0| 27480.0|   96.0|   96.0|      No|\n",
            "|29.0|  Male|1944-01-28|  19|Manager|135000.0| 79980.0|   96.0|  199.0|      No|\n",
            "|32.0|  Male|1954-01-28|  19|Manager|110625.0| 45000.0|   96.0|  120.0|      No|\n",
            "+----+------+----------+----+-------+--------+--------+-------+-------+--------+\n",
            "only showing top 5 rows\n",
            "\n"
          ]
        }
      ]
    },
    {
      "cell_type": "markdown",
      "source": [
        "##Use cache() or persist() for Reused DataFrames"
      ],
      "metadata": {
        "id": "gcaWkEF24pLI"
      }
    },
    {
      "cell_type": "code",
      "source": [
        "#df.count()  # Without persist, every action recomputes the DataFrame\n",
        "#df.show()\n",
        "df.persist()  # Default is MEMORY_AND_DISK\n",
        "df.count()  # Triggers execution and stores result"
      ],
      "metadata": {
        "colab": {
          "base_uri": "https://localhost:8080/"
        },
        "id": "V10ZJNrP4sj7",
        "outputId": "60c19fcb-cc52-43c5-a30b-31f03f421c23"
      },
      "execution_count": 15,
      "outputs": [
        {
          "output_type": "execute_result",
          "data": {
            "text/plain": [
              "474"
            ]
          },
          "metadata": {},
          "execution_count": 15
        }
      ]
    },
    {
      "cell_type": "markdown",
      "source": [
        "##Avoid UDFs (Use Built-in Functions Instead)"
      ],
      "metadata": {
        "id": "_QBcZGKJIwmC"
      }
    },
    {
      "cell_type": "code",
      "source": [
        "from pyspark.sql.functions import when, col\n",
        "\n",
        "df = df.withColumn(\"high_salary\", when(col(\"salary\") > 50000, \"Yes\").otherwise(\"No\")).show()\n"
      ],
      "metadata": {
        "colab": {
          "base_uri": "https://localhost:8080/"
        },
        "id": "hkHbGnxCI1uW",
        "outputId": "cd69d372-7d90-4ea4-c886-8a5277ade4bd"
      },
      "execution_count": 16,
      "outputs": [
        {
          "output_type": "stream",
          "name": "stdout",
          "text": [
            "+----+------+----------+----+--------+--------+--------+-------+-------+--------+-----------+\n",
            "|  id|gender|     bdate|educ|  jobcat|  salary|salbegin|jobtime|prevexp|minority|high_salary|\n",
            "+----+------+----------+----+--------+--------+--------+-------+-------+--------+-----------+\n",
            "| 1.0|  Male|1952-02-03|  15| Manager| 57000.0| 27000.0|   98.0|  144.0|      No|        Yes|\n",
            "| 2.0|  Male|1958-05-23|  16|Clerical| 40200.0| 18750.0|   98.0|   36.0|      No|         No|\n",
            "| 3.0|Female|1929-07-26|  12|Clerical| 21450.0| 12000.0|   98.0|  381.0|      No|         No|\n",
            "| 4.0|Female|1947-04-15|   8|Clerical| 21900.0| 13200.0|   98.0|  190.0|      No|         No|\n",
            "| 5.0|  Male|1955-02-09|  15|Clerical| 45000.0| 21000.0|   98.0|  138.0|      No|         No|\n",
            "| 6.0|  Male|1958-08-22|  15|Clerical| 32100.0| 13500.0|   98.0|   67.0|      No|         No|\n",
            "| 7.0|  Male|1956-04-26|  15|Clerical| 36000.0| 18750.0|   98.0|  114.0|      No|         No|\n",
            "| 8.0|Female|1966-05-06|  12|Clerical| 21900.0|  9750.0|   98.0|missing|      No|         No|\n",
            "| 9.0|Female|1946-01-23|  15|Clerical| 27900.0| 12750.0|   98.0|  115.0|      No|         No|\n",
            "|10.0|Female|1946-02-13|  12|Clerical| 24000.0| 13500.0|   98.0|  244.0|      No|         No|\n",
            "|11.0|Female|1950-02-07|  16|Clerical| 30300.0| 16500.0|   98.0|  143.0|      No|         No|\n",
            "|12.0|  Male|1966-01-11|   8|Clerical| 28350.0| 12000.0|   98.0|   26.0|     Yes|         No|\n",
            "|13.0|  Male|1960-07-17|  15|Clerical| 27750.0| 14250.0|   98.0|   34.0|     Yes|         No|\n",
            "|14.0|Female|1949-02-26|  15|Clerical| 35100.0| 16800.0|   98.0|  137.0|     Yes|         No|\n",
            "|15.0|  Male|1962-08-29|  12|Clerical| 27300.0| 13500.0|   97.0|   66.0|      No|         No|\n",
            "|16.0|  Male|1964-11-17|  12|Clerical| 40800.0| 15000.0|   97.0|   24.0|      No|         No|\n",
            "|17.0|  Male|1962-07-18|  15|Clerical| 46000.0| 14250.0|   97.0|   48.0|      No|         No|\n",
            "|18.0|  Male|1956-03-20|  16| Manager|103750.0| 27510.0|   97.0|   70.0|      No|        Yes|\n",
            "|19.0|  Male|1962-08-19|  12|Clerical| 42300.0| 14250.0|   97.0|  103.0|      No|         No|\n",
            "|20.0|Female|1940-01-23|  12|Clerical| 26250.0| 11550.0|   97.0|   48.0|      No|         No|\n",
            "+----+------+----------+----+--------+--------+--------+-------+-------+--------+-----------+\n",
            "only showing top 20 rows\n",
            "\n"
          ]
        }
      ]
    },
    {
      "cell_type": "markdown",
      "source": [
        "##Use groupBy().agg() Instead of groupBy().count()"
      ],
      "metadata": {
        "id": "rdXyRXXSLLKT"
      }
    },
    {
      "cell_type": "code",
      "source": [
        "from pyspark.sql.functions import count\n",
        "\n",
        "df_grouped = df.groupBy(\"jobcat\").agg(count(\"*\").alias(\"total_count\")).show()"
      ],
      "metadata": {
        "colab": {
          "base_uri": "https://localhost:8080/"
        },
        "id": "4Sfe-unvLN-5",
        "outputId": "d5e2d88d-9f15-4339-8f0e-28ceebefb2a3"
      },
      "execution_count": 23,
      "outputs": [
        {
          "output_type": "stream",
          "name": "stdout",
          "text": [
            "+---------+-----------+\n",
            "|   jobcat|total_count|\n",
            "+---------+-----------+\n",
            "|Custodial|         27|\n",
            "| Clerical|        363|\n",
            "|  Manager|         84|\n",
            "+---------+-----------+\n",
            "\n"
          ]
        }
      ]
    }
  ]
}