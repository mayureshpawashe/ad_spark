{
  "nbformat": 4,
  "nbformat_minor": 0,
  "metadata": {
    "colab": {
      "provenance": [],
      "authorship_tag": "ABX9TyM+xlOb7fYEHZknukysR0Yn",
      "include_colab_link": true
    },
    "kernelspec": {
      "name": "python3",
      "display_name": "Python 3"
    },
    "language_info": {
      "name": "python"
    }
  },
  "cells": [
    {
      "cell_type": "markdown",
      "metadata": {
        "id": "view-in-github",
        "colab_type": "text"
      },
      "source": [
        "<a href=\"https://colab.research.google.com/github/mayureshpawashe/ad_spark/blob/main/ad_spark_day3.ipynb\" target=\"_parent\"><img src=\"https://colab.research.google.com/assets/colab-badge.svg\" alt=\"Open In Colab\"/></a>"
      ]
    },
    {
      "cell_type": "code",
      "execution_count": 8,
      "metadata": {
        "colab": {
          "base_uri": "https://localhost:8080/"
        },
        "id": "lY_gQNR8nY0h",
        "outputId": "459ec4ae-01d4-4cbc-8376-6155cb8a26ec"
      },
      "outputs": [
        {
          "output_type": "stream",
          "name": "stdout",
          "text": [
            "+------+---------+-----------+------+--------------+----------------+--------+---------+--------------+-----------+----------+----------+-------------------+--------+------------+------+------+------+------+\n",
            "|userID| latitude|  longitude|smoker|   drink_level|dress_preference|ambience|transport|marital_status|      hijos|birth_year|  interest|        personality|religion|    activity| color|weight|budget|height|\n",
            "+------+---------+-----------+------+--------------+----------------+--------+---------+--------------+-----------+----------+----------+-------------------+--------+------------+------+------+------+------+\n",
            "| U1001|22.139997|-100.978803| false|    abstemious|        informal|  family|  on foot|        single|independent|      1989|   variety|  thrifty-protector|    none|     student| black|    69|medium|  1.77|\n",
            "| U1002|22.150087|-100.983325| false|    abstemious|        informal|  family|   public|        single|independent|      1990|technology|hunter-ostentatious|Catholic|     student|   red|    40|   low|  1.87|\n",
            "| U1003|22.119847|-100.946527| false|social drinker|          formal|  family|   public|        single|independent|      1989|      none|        hard-worker|Catholic|     student|  blue|    60|   low|  1.69|\n",
            "| U1004|   18.867|    -99.183| false|    abstemious|        informal|  family|   public|        single|independent|      1940|   variety|        hard-worker|    none|professional| green|    44|medium|  1.53|\n",
            "| U1005|22.183477|-100.959891| false|    abstemious|   no preference|  family|   public|        single|independent|      1992|      none|  thrifty-protector|Catholic|     student| black|    65|medium|  1.69|\n",
            "| U1006|    22.15|   -100.983|  true|social drinker|   no preference| friends|car owner|        single|independent|      1989|   variety|        hard-worker|    none|     student|  blue|    75|medium|   1.8|\n",
            "| U1007|22.118464|-100.938256| false|casual drinker|        informal|solitary|   public|        single|independent|      1989|   variety|  thrifty-protector|Catholic|     student|purple|    60|   low|  1.59|\n",
            "| U1008|22.122989|-100.923811| false|social drinker|          formal|solitary|   public|        single|independent|      1989|technology|        hard-worker|Catholic|     student| green|    68|   low|  1.72|\n",
            "| U1009|22.159427|-100.990448| false|    abstemious|          formal|  family|  on foot|        single|       kids|      1991|   variety|  thrifty-protector|Catholic|     student| green|    75|medium|  1.78|\n",
            "| U1010|22.190889|-100.998669| false|social drinker|   no preference| friends|car owner|       married|       kids|      1987|technology|        hard-worker|    none|     student| green|    40|medium|  1.67|\n",
            "+------+---------+-----------+------+--------------+----------------+--------+---------+--------------+-----------+----------+----------+-------------------+--------+------------+------+------+------+------+\n",
            "only showing top 10 rows\n",
            "\n"
          ]
        }
      ],
      "source": [
        "import urllib.request\n",
        "from pyspark.sql import SparkSession\n",
        "spark = SparkSession.builder.appName('Ad Spark day3 ').getOrCreate()\n",
        "url = \"https://raw.githubusercontent.com/prasertcbs/basic-dataset/refs/heads/master/Restaurant%20customer%20data.csv\"\n",
        "file_path = \"/tmp/Restaurant_customer_data.csv\"\n",
        "urllib.request.urlretrieve(url, file_path)\n",
        "df = spark.read.csv(file_path, header=True, inferSchema=True)\n",
        "df.show(10)"
      ]
    },
    {
      "cell_type": "markdown",
      "source": [
        "##Schema Basics, Inference"
      ],
      "metadata": {
        "id": "od6Tf-hZ8-nv"
      }
    },
    {
      "cell_type": "code",
      "source": [
        "from pyspark.sql import SparkSession\n",
        "spark = SparkSession.builder.appName(\"Schema Inference\").getOrCreate()\n",
        "\n",
        "# Read CSV with schema inference\n",
        "df = spark.read.option(\"header\", \"true\") \\\n",
        "               .option(\"inferSchema\", \"true\") \\\n",
        "               .option(\"delimiter\", \",\") \\\n",
        "               .csv(\"/tmp/Restaurant_customer_data.csv\")\n",
        "\n",
        "df.show(10, truncate=False)\n",
        "\n",
        "\n",
        "df.printSchema()\n"
      ],
      "metadata": {
        "colab": {
          "base_uri": "https://localhost:8080/"
        },
        "id": "_uYwiGfk13uy",
        "outputId": "17c06940-449a-4863-96ca-08dd2867c232"
      },
      "execution_count": 12,
      "outputs": [
        {
          "output_type": "stream",
          "name": "stdout",
          "text": [
            "+------+---------+-----------+------+--------------+----------------+--------+---------+--------------+-----------+----------+----------+-------------------+--------+------------+------+------+------+------+\n",
            "|userID|latitude |longitude  |smoker|drink_level   |dress_preference|ambience|transport|marital_status|hijos      |birth_year|interest  |personality        |religion|activity    |color |weight|budget|height|\n",
            "+------+---------+-----------+------+--------------+----------------+--------+---------+--------------+-----------+----------+----------+-------------------+--------+------------+------+------+------+------+\n",
            "|U1001 |22.139997|-100.978803|false |abstemious    |informal        |family  |on foot  |single        |independent|1989      |variety   |thrifty-protector  |none    |student     |black |69    |medium|1.77  |\n",
            "|U1002 |22.150087|-100.983325|false |abstemious    |informal        |family  |public   |single        |independent|1990      |technology|hunter-ostentatious|Catholic|student     |red   |40    |low   |1.87  |\n",
            "|U1003 |22.119847|-100.946527|false |social drinker|formal          |family  |public   |single        |independent|1989      |none      |hard-worker        |Catholic|student     |blue  |60    |low   |1.69  |\n",
            "|U1004 |18.867   |-99.183    |false |abstemious    |informal        |family  |public   |single        |independent|1940      |variety   |hard-worker        |none    |professional|green |44    |medium|1.53  |\n",
            "|U1005 |22.183477|-100.959891|false |abstemious    |no preference   |family  |public   |single        |independent|1992      |none      |thrifty-protector  |Catholic|student     |black |65    |medium|1.69  |\n",
            "|U1006 |22.15    |-100.983   |true  |social drinker|no preference   |friends |car owner|single        |independent|1989      |variety   |hard-worker        |none    |student     |blue  |75    |medium|1.8   |\n",
            "|U1007 |22.118464|-100.938256|false |casual drinker|informal        |solitary|public   |single        |independent|1989      |variety   |thrifty-protector  |Catholic|student     |purple|60    |low   |1.59  |\n",
            "|U1008 |22.122989|-100.923811|false |social drinker|formal          |solitary|public   |single        |independent|1989      |technology|hard-worker        |Catholic|student     |green |68    |low   |1.72  |\n",
            "|U1009 |22.159427|-100.990448|false |abstemious    |formal          |family  |on foot  |single        |kids       |1991      |variety   |thrifty-protector  |Catholic|student     |green |75    |medium|1.78  |\n",
            "|U1010 |22.190889|-100.998669|false |social drinker|no preference   |friends |car owner|married       |kids       |1987      |technology|hard-worker        |none    |student     |green |40    |medium|1.67  |\n",
            "+------+---------+-----------+------+--------------+----------------+--------+---------+--------------+-----------+----------+----------+-------------------+--------+------------+------+------+------+------+\n",
            "only showing top 10 rows\n",
            "\n",
            "root\n",
            " |-- userID: string (nullable = true)\n",
            " |-- latitude: double (nullable = true)\n",
            " |-- longitude: double (nullable = true)\n",
            " |-- smoker: string (nullable = true)\n",
            " |-- drink_level: string (nullable = true)\n",
            " |-- dress_preference: string (nullable = true)\n",
            " |-- ambience: string (nullable = true)\n",
            " |-- transport: string (nullable = true)\n",
            " |-- marital_status: string (nullable = true)\n",
            " |-- hijos: string (nullable = true)\n",
            " |-- birth_year: integer (nullable = true)\n",
            " |-- interest: string (nullable = true)\n",
            " |-- personality: string (nullable = true)\n",
            " |-- religion: string (nullable = true)\n",
            " |-- activity: string (nullable = true)\n",
            " |-- color: string (nullable = true)\n",
            " |-- weight: integer (nullable = true)\n",
            " |-- budget: string (nullable = true)\n",
            " |-- height: double (nullable = true)\n",
            "\n"
          ]
        }
      ]
    },
    {
      "cell_type": "markdown",
      "source": [
        "##adding a new column to an existing DataFrame"
      ],
      "metadata": {
        "id": "82j8IKQA8vkC"
      }
    },
    {
      "cell_type": "code",
      "source": [
        "from pyspark.sql.functions import lit\n",
        "\n",
        "# Add a new column 'income' with a default value\n",
        "df = df.withColumn(\"income\", lit(50000))  # Default value: 50,000\n",
        "\n",
        "df.printSchema()\n",
        "\n",
        "df.show(5, truncate=False)"
      ],
      "metadata": {
        "colab": {
          "base_uri": "https://localhost:8080/"
        },
        "id": "G7Fd-L2r8vFG",
        "outputId": "5b5125be-68da-4335-8d82-7571c65e4ce0"
      },
      "execution_count": 13,
      "outputs": [
        {
          "output_type": "stream",
          "name": "stdout",
          "text": [
            "root\n",
            " |-- userID: string (nullable = true)\n",
            " |-- latitude: double (nullable = true)\n",
            " |-- longitude: double (nullable = true)\n",
            " |-- smoker: string (nullable = true)\n",
            " |-- drink_level: string (nullable = true)\n",
            " |-- dress_preference: string (nullable = true)\n",
            " |-- ambience: string (nullable = true)\n",
            " |-- transport: string (nullable = true)\n",
            " |-- marital_status: string (nullable = true)\n",
            " |-- hijos: string (nullable = true)\n",
            " |-- birth_year: integer (nullable = true)\n",
            " |-- interest: string (nullable = true)\n",
            " |-- personality: string (nullable = true)\n",
            " |-- religion: string (nullable = true)\n",
            " |-- activity: string (nullable = true)\n",
            " |-- color: string (nullable = true)\n",
            " |-- weight: integer (nullable = true)\n",
            " |-- budget: string (nullable = true)\n",
            " |-- height: double (nullable = true)\n",
            " |-- income: integer (nullable = false)\n",
            "\n",
            "+------+---------+-----------+------+--------------+----------------+--------+---------+--------------+-----------+----------+----------+-------------------+--------+------------+-----+------+------+------+------+\n",
            "|userID|latitude |longitude  |smoker|drink_level   |dress_preference|ambience|transport|marital_status|hijos      |birth_year|interest  |personality        |religion|activity    |color|weight|budget|height|income|\n",
            "+------+---------+-----------+------+--------------+----------------+--------+---------+--------------+-----------+----------+----------+-------------------+--------+------------+-----+------+------+------+------+\n",
            "|U1001 |22.139997|-100.978803|false |abstemious    |informal        |family  |on foot  |single        |independent|1989      |variety   |thrifty-protector  |none    |student     |black|69    |medium|1.77  |50000 |\n",
            "|U1002 |22.150087|-100.983325|false |abstemious    |informal        |family  |public   |single        |independent|1990      |technology|hunter-ostentatious|Catholic|student     |red  |40    |low   |1.87  |50000 |\n",
            "|U1003 |22.119847|-100.946527|false |social drinker|formal          |family  |public   |single        |independent|1989      |none      |hard-worker        |Catholic|student     |blue |60    |low   |1.69  |50000 |\n",
            "|U1004 |18.867   |-99.183    |false |abstemious    |informal        |family  |public   |single        |independent|1940      |variety   |hard-worker        |none    |professional|green|44    |medium|1.53  |50000 |\n",
            "|U1005 |22.183477|-100.959891|false |abstemious    |no preference   |family  |public   |single        |independent|1992      |none      |thrifty-protector  |Catholic|student     |black|65    |medium|1.69  |50000 |\n",
            "+------+---------+-----------+------+--------------+----------------+--------+---------+--------------+-----------+----------+----------+-------------------+--------+------------+-----+------+------+------+------+\n",
            "only showing top 5 rows\n",
            "\n"
          ]
        }
      ]
    },
    {
      "cell_type": "markdown",
      "source": [
        "##Changing Data Type (smoker from string → boolean)"
      ],
      "metadata": {
        "id": "LjPM-KIQ_BIM"
      }
    },
    {
      "cell_type": "code",
      "source": [
        "from pyspark.sql.types import BooleanType\n",
        "from pyspark.sql.functions import col, when\n",
        "\n",
        "# Convert 'smoker' column string  to Boolean\n",
        "df = df.withColumn(\"smoker\", when(col(\"smoker\") == \"true\", True)\n",
        "                             .when(col(\"smoker\") == \"false\", False)\n",
        "                             .cast(BooleanType()))\n",
        "\n",
        "df.printSchema()\n",
        "df.show(5, truncate=False)\n"
      ],
      "metadata": {
        "colab": {
          "base_uri": "https://localhost:8080/"
        },
        "id": "e9G_TWTo_E1U",
        "outputId": "11fa38e0-a3df-4175-892a-abcef2068dbd"
      },
      "execution_count": 14,
      "outputs": [
        {
          "output_type": "stream",
          "name": "stdout",
          "text": [
            "root\n",
            " |-- userID: string (nullable = true)\n",
            " |-- latitude: double (nullable = true)\n",
            " |-- longitude: double (nullable = true)\n",
            " |-- smoker: boolean (nullable = true)\n",
            " |-- drink_level: string (nullable = true)\n",
            " |-- dress_preference: string (nullable = true)\n",
            " |-- ambience: string (nullable = true)\n",
            " |-- transport: string (nullable = true)\n",
            " |-- marital_status: string (nullable = true)\n",
            " |-- hijos: string (nullable = true)\n",
            " |-- birth_year: integer (nullable = true)\n",
            " |-- interest: string (nullable = true)\n",
            " |-- personality: string (nullable = true)\n",
            " |-- religion: string (nullable = true)\n",
            " |-- activity: string (nullable = true)\n",
            " |-- color: string (nullable = true)\n",
            " |-- weight: integer (nullable = true)\n",
            " |-- budget: string (nullable = true)\n",
            " |-- height: double (nullable = true)\n",
            " |-- income: integer (nullable = false)\n",
            "\n",
            "+------+---------+-----------+------+--------------+----------------+--------+---------+--------------+-----------+----------+----------+-------------------+--------+------------+-----+------+------+------+------+\n",
            "|userID|latitude |longitude  |smoker|drink_level   |dress_preference|ambience|transport|marital_status|hijos      |birth_year|interest  |personality        |religion|activity    |color|weight|budget|height|income|\n",
            "+------+---------+-----------+------+--------------+----------------+--------+---------+--------------+-----------+----------+----------+-------------------+--------+------------+-----+------+------+------+------+\n",
            "|U1001 |22.139997|-100.978803|false |abstemious    |informal        |family  |on foot  |single        |independent|1989      |variety   |thrifty-protector  |none    |student     |black|69    |medium|1.77  |50000 |\n",
            "|U1002 |22.150087|-100.983325|false |abstemious    |informal        |family  |public   |single        |independent|1990      |technology|hunter-ostentatious|Catholic|student     |red  |40    |low   |1.87  |50000 |\n",
            "|U1003 |22.119847|-100.946527|false |social drinker|formal          |family  |public   |single        |independent|1989      |none      |hard-worker        |Catholic|student     |blue |60    |low   |1.69  |50000 |\n",
            "|U1004 |18.867   |-99.183    |false |abstemious    |informal        |family  |public   |single        |independent|1940      |variety   |hard-worker        |none    |professional|green|44    |medium|1.53  |50000 |\n",
            "|U1005 |22.183477|-100.959891|false |abstemious    |no preference   |family  |public   |single        |independent|1992      |none      |thrifty-protector  |Catholic|student     |black|65    |medium|1.69  |50000 |\n",
            "+------+---------+-----------+------+--------------+----------------+--------+---------+--------------+-----------+----------+----------+-------------------+--------+------------+-----+------+------+------+------+\n",
            "only showing top 5 rows\n",
            "\n"
          ]
        }
      ]
    },
    {
      "cell_type": "markdown",
      "source": [
        "##Removing a Column (income)"
      ],
      "metadata": {
        "id": "sGZR1EljC5r1"
      }
    },
    {
      "cell_type": "code",
      "source": [
        "df = df.drop(\"income\")\n",
        "\n",
        "# Show updated schema\n",
        "df.printSchema()\n",
        "\n",
        "# Show updated data\n",
        "df.show(5, truncate=False)\n"
      ],
      "metadata": {
        "colab": {
          "base_uri": "https://localhost:8080/"
        },
        "id": "VmZ48sNJDAdc",
        "outputId": "c17dee10-5123-4da5-f851-4758ee1d72dc"
      },
      "execution_count": 15,
      "outputs": [
        {
          "output_type": "stream",
          "name": "stdout",
          "text": [
            "root\n",
            " |-- userID: string (nullable = true)\n",
            " |-- latitude: double (nullable = true)\n",
            " |-- longitude: double (nullable = true)\n",
            " |-- smoker: boolean (nullable = true)\n",
            " |-- drink_level: string (nullable = true)\n",
            " |-- dress_preference: string (nullable = true)\n",
            " |-- ambience: string (nullable = true)\n",
            " |-- transport: string (nullable = true)\n",
            " |-- marital_status: string (nullable = true)\n",
            " |-- hijos: string (nullable = true)\n",
            " |-- birth_year: integer (nullable = true)\n",
            " |-- interest: string (nullable = true)\n",
            " |-- personality: string (nullable = true)\n",
            " |-- religion: string (nullable = true)\n",
            " |-- activity: string (nullable = true)\n",
            " |-- color: string (nullable = true)\n",
            " |-- weight: integer (nullable = true)\n",
            " |-- budget: string (nullable = true)\n",
            " |-- height: double (nullable = true)\n",
            "\n",
            "+------+---------+-----------+------+--------------+----------------+--------+---------+--------------+-----------+----------+----------+-------------------+--------+------------+-----+------+------+------+\n",
            "|userID|latitude |longitude  |smoker|drink_level   |dress_preference|ambience|transport|marital_status|hijos      |birth_year|interest  |personality        |religion|activity    |color|weight|budget|height|\n",
            "+------+---------+-----------+------+--------------+----------------+--------+---------+--------------+-----------+----------+----------+-------------------+--------+------------+-----+------+------+------+\n",
            "|U1001 |22.139997|-100.978803|false |abstemious    |informal        |family  |on foot  |single        |independent|1989      |variety   |thrifty-protector  |none    |student     |black|69    |medium|1.77  |\n",
            "|U1002 |22.150087|-100.983325|false |abstemious    |informal        |family  |public   |single        |independent|1990      |technology|hunter-ostentatious|Catholic|student     |red  |40    |low   |1.87  |\n",
            "|U1003 |22.119847|-100.946527|false |social drinker|formal          |family  |public   |single        |independent|1989      |none      |hard-worker        |Catholic|student     |blue |60    |low   |1.69  |\n",
            "|U1004 |18.867   |-99.183    |false |abstemious    |informal        |family  |public   |single        |independent|1940      |variety   |hard-worker        |none    |professional|green|44    |medium|1.53  |\n",
            "|U1005 |22.183477|-100.959891|false |abstemious    |no preference   |family  |public   |single        |independent|1992      |none      |thrifty-protector  |Catholic|student     |black|65    |medium|1.69  |\n",
            "+------+---------+-----------+------+--------------+----------------+--------+---------+--------------+-----------+----------+----------+-------------------+--------+------------+-----+------+------+------+\n",
            "only showing top 5 rows\n",
            "\n"
          ]
        }
      ]
    },
    {
      "cell_type": "markdown",
      "source": [
        "##Merging Two DataFrames with Different Schemas"
      ],
      "metadata": {
        "id": "dXtX_yo4IC0F"
      }
    },
    {
      "cell_type": "code",
      "source": [
        "from pyspark.sql import Row\n",
        "\n",
        "# Create a new DataFrame with an extra column \"income\"\n",
        "data_new = [\n",
        "    Row(userID=\"U2001\", latitude=20.0, longitude=-100.0, smoker=False, income=60000),\n",
        "    Row(userID=\"U2002\", latitude=21.0, longitude=-101.0, smoker=True, income=75000)\n",
        "]\n",
        "df_new = spark.createDataFrame(data_new)\n",
        "\n",
        "# Merge DataFrames using `unionByName()` (fills missing columns with NULL)\n",
        "df_merged = df.unionByName(df_new, allowMissingColumns=True)\n",
        "\n",
        "# Show updated schema\n",
        "df_merged.printSchema()\n",
        "\n",
        "\n",
        "\n",
        "\n",
        "# Show merged data\n",
        "df_merged.show(5, truncate=False)\n"
      ],
      "metadata": {
        "colab": {
          "base_uri": "https://localhost:8080/"
        },
        "id": "yuP12rU7IESH",
        "outputId": "a5606bb9-2480-42d8-ceab-5835aff2cfcc"
      },
      "execution_count": 17,
      "outputs": [
        {
          "output_type": "stream",
          "name": "stdout",
          "text": [
            "root\n",
            " |-- userID: string (nullable = true)\n",
            " |-- latitude: double (nullable = true)\n",
            " |-- longitude: double (nullable = true)\n",
            " |-- smoker: boolean (nullable = true)\n",
            " |-- drink_level: string (nullable = true)\n",
            " |-- dress_preference: string (nullable = true)\n",
            " |-- ambience: string (nullable = true)\n",
            " |-- transport: string (nullable = true)\n",
            " |-- marital_status: string (nullable = true)\n",
            " |-- hijos: string (nullable = true)\n",
            " |-- birth_year: integer (nullable = true)\n",
            " |-- interest: string (nullable = true)\n",
            " |-- personality: string (nullable = true)\n",
            " |-- religion: string (nullable = true)\n",
            " |-- activity: string (nullable = true)\n",
            " |-- color: string (nullable = true)\n",
            " |-- weight: integer (nullable = true)\n",
            " |-- budget: string (nullable = true)\n",
            " |-- height: double (nullable = true)\n",
            " |-- income: long (nullable = true)\n",
            "\n",
            "+------+---------+-----------+------+--------------+----------------+--------+---------+--------------+-----------+----------+----------+-------------------+--------+------------+-----+------+------+------+------+\n",
            "|userID|latitude |longitude  |smoker|drink_level   |dress_preference|ambience|transport|marital_status|hijos      |birth_year|interest  |personality        |religion|activity    |color|weight|budget|height|income|\n",
            "+------+---------+-----------+------+--------------+----------------+--------+---------+--------------+-----------+----------+----------+-------------------+--------+------------+-----+------+------+------+------+\n",
            "|U1001 |22.139997|-100.978803|false |abstemious    |informal        |family  |on foot  |single        |independent|1989      |variety   |thrifty-protector  |none    |student     |black|69    |medium|1.77  |NULL  |\n",
            "|U1002 |22.150087|-100.983325|false |abstemious    |informal        |family  |public   |single        |independent|1990      |technology|hunter-ostentatious|Catholic|student     |red  |40    |low   |1.87  |NULL  |\n",
            "|U1003 |22.119847|-100.946527|false |social drinker|formal          |family  |public   |single        |independent|1989      |none      |hard-worker        |Catholic|student     |blue |60    |low   |1.69  |NULL  |\n",
            "|U1004 |18.867   |-99.183    |false |abstemious    |informal        |family  |public   |single        |independent|1940      |variety   |hard-worker        |none    |professional|green|44    |medium|1.53  |NULL  |\n",
            "|U1005 |22.183477|-100.959891|false |abstemious    |no preference   |family  |public   |single        |independent|1992      |none      |thrifty-protector  |Catholic|student     |black|65    |medium|1.69  |NULL  |\n",
            "+------+---------+-----------+------+--------------+----------------+--------+---------+--------------+-----------+----------+----------+-------------------+--------+------------+-----+------+------+------+------+\n",
            "only showing top 5 rows\n",
            "\n"
          ]
        }
      ]
    },
    {
      "cell_type": "markdown",
      "source": [
        "##SQL Queries on PySpark DataFrames"
      ],
      "metadata": {
        "id": "W7ls3YrYOZPB"
      }
    },
    {
      "cell_type": "markdown",
      "source": [
        "First, i need to register your DataFrame as a temporary SQL table, and then i can run SQL queries on it."
      ],
      "metadata": {
        "id": "2Q2VcyU-Tslo"
      }
    },
    {
      "cell_type": "code",
      "source": [
        "df.createOrReplaceTempView(\"users\")"
      ],
      "metadata": {
        "id": "e2-xsgjMOacA"
      },
      "execution_count": 20,
      "outputs": []
    },
    {
      "cell_type": "code",
      "source": [
        "df_sql = spark.sql(\"SELECT * FROM users\")\n",
        "df_ori=df_sql\n",
        "df_sql.show()"
      ],
      "metadata": {
        "colab": {
          "base_uri": "https://localhost:8080/"
        },
        "id": "r7g07QRcTgSk",
        "outputId": "5206ef50-8e2b-43e9-b1f9-9dbf11ecf886"
      },
      "execution_count": 32,
      "outputs": [
        {
          "output_type": "stream",
          "name": "stdout",
          "text": [
            "+------+---------+-----------+------+--------------+----------------+--------+---------+--------------+-----------+----------+------------+-------------------+---------+------------+------+------+------+------+\n",
            "|userID| latitude|  longitude|smoker|   drink_level|dress_preference|ambience|transport|marital_status|      hijos|birth_year|    interest|        personality| religion|    activity| color|weight|budget|height|\n",
            "+------+---------+-----------+------+--------------+----------------+--------+---------+--------------+-----------+----------+------------+-------------------+---------+------------+------+------+------+------+\n",
            "| U1001|22.139997|-100.978803| false|    abstemious|        informal|  family|  on foot|        single|independent|      1989|     variety|  thrifty-protector|     none|     student| black|    69|medium|  1.77|\n",
            "| U1002|22.150087|-100.983325| false|    abstemious|        informal|  family|   public|        single|independent|      1990|  technology|hunter-ostentatious| Catholic|     student|   red|    40|   low|  1.87|\n",
            "| U1003|22.119847|-100.946527| false|social drinker|          formal|  family|   public|        single|independent|      1989|        none|        hard-worker| Catholic|     student|  blue|    60|   low|  1.69|\n",
            "| U1004|   18.867|    -99.183| false|    abstemious|        informal|  family|   public|        single|independent|      1940|     variety|        hard-worker|     none|professional| green|    44|medium|  1.53|\n",
            "| U1005|22.183477|-100.959891| false|    abstemious|   no preference|  family|   public|        single|independent|      1992|        none|  thrifty-protector| Catholic|     student| black|    65|medium|  1.69|\n",
            "| U1006|    22.15|   -100.983|  true|social drinker|   no preference| friends|car owner|        single|independent|      1989|     variety|        hard-worker|     none|     student|  blue|    75|medium|   1.8|\n",
            "| U1007|22.118464|-100.938256| false|casual drinker|        informal|solitary|   public|        single|independent|      1989|     variety|  thrifty-protector| Catholic|     student|purple|    60|   low|  1.59|\n",
            "| U1008|22.122989|-100.923811| false|social drinker|          formal|solitary|   public|        single|independent|      1989|  technology|        hard-worker| Catholic|     student| green|    68|   low|  1.72|\n",
            "| U1009|22.159427|-100.990448| false|    abstemious|          formal|  family|  on foot|        single|       kids|      1991|     variety|  thrifty-protector| Catholic|     student| green|    75|medium|  1.78|\n",
            "| U1010|22.190889|-100.998669| false|social drinker|   no preference| friends|car owner|       married|       kids|      1987|  technology|        hard-worker|     none|     student| green|    40|medium|  1.67|\n",
            "| U1011|23.724972| -99.152856| false|    abstemious|   no preference|  family|   public|        single|independent|      1989|     variety|        hard-worker| Catholic|     student|purple|    68|medium|  1.78|\n",
            "| U1012|18.813348| -99.243697| false|casual drinker|          formal|  family|   public|        single|independent|      1988|  technology|        hard-worker| Catholic|     student|   red|    98|medium|  1.84|\n",
            "| U1013|22.174624|-100.993873| false|    abstemious|   no preference| friends|   public|         widow|independent|      1982|       retro|  thrifty-protector|     none|professional|  blue|    80|medium|  1.75|\n",
            "| U1014|23.751607| -99.170108| false|    abstemious|               ?| friends|   public|        single|independent|      1990|        none|        hard-worker| Catholic|     student|  blue|    53|medium|  1.69|\n",
            "| U1015| 22.12676|-100.905209|  true|social drinker|        informal|  family|   public|        single|independent|      1989|  technology|  thrifty-protector| Catholic|     student| black|    87|medium|  1.67|\n",
            "| U1016|22.156247|-100.977402| false|casual drinker|        informal| friends|  on foot|        single|independent|      1991|eco-friendly|  thrifty-protector| Catholic|     student| green|    70|medium|  1.67|\n",
            "| U1017|18.952615| -99.201616| false|casual drinker|          formal|  family|   public|        single|          ?|      1991|       retro|hunter-ostentatious|     none|professional|orange|    79|medium|  1.79|\n",
            "| U1018|22.190949|-100.917902|  true|casual drinker|          formal| friends|   public|        single|independent|      1989|  technology|  thrifty-protector|Christian|     student|  blue|    65|   low|  1.83|\n",
            "| U1019|22.153385|-100.975294| false|casual drinker|   no preference|  family|   public|        single|independent|      1989|     variety|  thrifty-protector| Catholic|     student|purple|    59|medium|   1.6|\n",
            "| U1020|18.878189| -99.222969| false|    abstemious|   no preference| friends|   public|        single|independent|      1982|  technology|        hard-worker| Catholic|professional|  blue|    40|medium|  1.68|\n",
            "+------+---------+-----------+------+--------------+----------------+--------+---------+--------------+-----------+----------+------------+-------------------+---------+------------+------+------+------+------+\n",
            "only showing top 20 rows\n",
            "\n"
          ]
        }
      ]
    },
    {
      "cell_type": "code",
      "source": [
        "df_sql = spark.sql(\"SELECT userID, smoker, drink_level FROM users\")\n",
        "df_sql.show(10)"
      ],
      "metadata": {
        "colab": {
          "base_uri": "https://localhost:8080/"
        },
        "id": "EQCmKkQHcxtN",
        "outputId": "8024e139-c08b-4aaf-828a-ecd011998286"
      },
      "execution_count": 24,
      "outputs": [
        {
          "output_type": "stream",
          "name": "stdout",
          "text": [
            "+------+------+--------------+\n",
            "|userID|smoker|   drink_level|\n",
            "+------+------+--------------+\n",
            "| U1001| false|    abstemious|\n",
            "| U1002| false|    abstemious|\n",
            "| U1003| false|social drinker|\n",
            "| U1004| false|    abstemious|\n",
            "| U1005| false|    abstemious|\n",
            "| U1006|  true|social drinker|\n",
            "| U1007| false|casual drinker|\n",
            "| U1008| false|social drinker|\n",
            "| U1009| false|    abstemious|\n",
            "| U1010| false|social drinker|\n",
            "+------+------+--------------+\n",
            "only showing top 10 rows\n",
            "\n"
          ]
        }
      ]
    },
    {
      "cell_type": "code",
      "source": [
        "#Filtering Data (WHERE Clause)\n",
        "df_sql = spark.sql(\"SELECT * FROM users WHERE smoker = 'false'\")\n",
        "df_sql.show()"
      ],
      "metadata": {
        "colab": {
          "base_uri": "https://localhost:8080/"
        },
        "id": "T3e6MCN6frPq",
        "outputId": "c81f8808-f62e-4125-8f07-4fcb5409fe15"
      },
      "execution_count": 25,
      "outputs": [
        {
          "output_type": "stream",
          "name": "stdout",
          "text": [
            "+------+---------+-----------+------+--------------+----------------+--------+---------+--------------+-----------+----------+------------+-------------------+--------+------------+------+------+------+------+\n",
            "|userID| latitude|  longitude|smoker|   drink_level|dress_preference|ambience|transport|marital_status|      hijos|birth_year|    interest|        personality|religion|    activity| color|weight|budget|height|\n",
            "+------+---------+-----------+------+--------------+----------------+--------+---------+--------------+-----------+----------+------------+-------------------+--------+------------+------+------+------+------+\n",
            "| U1001|22.139997|-100.978803| false|    abstemious|        informal|  family|  on foot|        single|independent|      1989|     variety|  thrifty-protector|    none|     student| black|    69|medium|  1.77|\n",
            "| U1002|22.150087|-100.983325| false|    abstemious|        informal|  family|   public|        single|independent|      1990|  technology|hunter-ostentatious|Catholic|     student|   red|    40|   low|  1.87|\n",
            "| U1003|22.119847|-100.946527| false|social drinker|          formal|  family|   public|        single|independent|      1989|        none|        hard-worker|Catholic|     student|  blue|    60|   low|  1.69|\n",
            "| U1004|   18.867|    -99.183| false|    abstemious|        informal|  family|   public|        single|independent|      1940|     variety|        hard-worker|    none|professional| green|    44|medium|  1.53|\n",
            "| U1005|22.183477|-100.959891| false|    abstemious|   no preference|  family|   public|        single|independent|      1992|        none|  thrifty-protector|Catholic|     student| black|    65|medium|  1.69|\n",
            "| U1007|22.118464|-100.938256| false|casual drinker|        informal|solitary|   public|        single|independent|      1989|     variety|  thrifty-protector|Catholic|     student|purple|    60|   low|  1.59|\n",
            "| U1008|22.122989|-100.923811| false|social drinker|          formal|solitary|   public|        single|independent|      1989|  technology|        hard-worker|Catholic|     student| green|    68|   low|  1.72|\n",
            "| U1009|22.159427|-100.990448| false|    abstemious|          formal|  family|  on foot|        single|       kids|      1991|     variety|  thrifty-protector|Catholic|     student| green|    75|medium|  1.78|\n",
            "| U1010|22.190889|-100.998669| false|social drinker|   no preference| friends|car owner|       married|       kids|      1987|  technology|        hard-worker|    none|     student| green|    40|medium|  1.67|\n",
            "| U1011|23.724972| -99.152856| false|    abstemious|   no preference|  family|   public|        single|independent|      1989|     variety|        hard-worker|Catholic|     student|purple|    68|medium|  1.78|\n",
            "| U1012|18.813348| -99.243697| false|casual drinker|          formal|  family|   public|        single|independent|      1988|  technology|        hard-worker|Catholic|     student|   red|    98|medium|  1.84|\n",
            "| U1013|22.174624|-100.993873| false|    abstemious|   no preference| friends|   public|         widow|independent|      1982|       retro|  thrifty-protector|    none|professional|  blue|    80|medium|  1.75|\n",
            "| U1014|23.751607| -99.170108| false|    abstemious|               ?| friends|   public|        single|independent|      1990|        none|        hard-worker|Catholic|     student|  blue|    53|medium|  1.69|\n",
            "| U1016|22.156247|-100.977402| false|casual drinker|        informal| friends|  on foot|        single|independent|      1991|eco-friendly|  thrifty-protector|Catholic|     student| green|    70|medium|  1.67|\n",
            "| U1017|18.952615| -99.201616| false|casual drinker|          formal|  family|   public|        single|          ?|      1991|       retro|hunter-ostentatious|    none|professional|orange|    79|medium|  1.79|\n",
            "| U1019|22.153385|-100.975294| false|casual drinker|   no preference|  family|   public|        single|independent|      1989|     variety|  thrifty-protector|Catholic|     student|purple|    59|medium|   1.6|\n",
            "| U1020|18.878189| -99.222969| false|    abstemious|   no preference| friends|   public|        single|independent|      1982|  technology|        hard-worker|Catholic|professional|  blue|    40|medium|  1.68|\n",
            "| U1021|23.730569| -99.171883| false|social drinker|   no preference|  family|car owner|        single|  dependent|      1984|        none|        hard-worker|Catholic|     student|purple|   108|medium|  1.62|\n",
            "| U1022|22.146708|-100.964355| false|casual drinker|          formal|  family|car owner|        single|independent|      1990|     variety|        hard-worker|Catholic|     student|purple|    46|medium|  1.54|\n",
            "| U1023|23.752943| -99.166589| false|casual drinker|        informal| friends|car owner|        single|independent|      1988|        none|        hard-worker|Catholic|     student|  blue|   103|   low|  1.79|\n",
            "+------+---------+-----------+------+--------------+----------------+--------+---------+--------------+-----------+----------+------------+-------------------+--------+------------+------+------+------+------+\n",
            "only showing top 20 rows\n",
            "\n"
          ]
        }
      ]
    },
    {
      "cell_type": "code",
      "source": [
        "#Ordering Data (ORDER BY)\n",
        "df_sql = spark.sql(\"SELECT * FROM users ORDER BY birth_year DESC\")\n",
        "df_sql.show(10)"
      ],
      "metadata": {
        "colab": {
          "base_uri": "https://localhost:8080/"
        },
        "id": "Xl2BhHkRiq3l",
        "outputId": "f7a5e91c-1be6-42d4-d31a-076fc3d84c0f"
      },
      "execution_count": 27,
      "outputs": [
        {
          "output_type": "stream",
          "name": "stdout",
          "text": [
            "+------+---------+-----------+------+--------------+----------------+--------+---------+--------------+-----------+----------+------------+-----------------+--------+----------+------+------+------+------+\n",
            "|userID| latitude|  longitude|smoker|   drink_level|dress_preference|ambience|transport|marital_status|      hijos|birth_year|    interest|      personality|religion|  activity| color|weight|budget|height|\n",
            "+------+---------+-----------+------+--------------+----------------+--------+---------+--------------+-----------+----------+------------+-----------------+--------+----------+------+------+------+------+\n",
            "| U1040|18.895187|  -99.18039| false|    abstemious|   no preference| friends|   public|        single|independent|      1994|        none|thrifty-protector|Catholic|   student|  blue|    73|medium|  1.64|\n",
            "| U1110|18.871678| -99.183263| false|    abstemious|   no preference|  family|car owner|        single|independent|      1993|     variety|thrifty-protector|Catholic|   student|   red|    85|medium|  1.75|\n",
            "| U1047|22.142429|-100.949147| false|    abstemious|   no preference|  family|   public|        single|independent|      1992|       retro|thrifty-protector|Catholic|   student|purple|    60|medium|  1.63|\n",
            "| U1031|23.735698| -99.159851| false|    abstemious|        informal|solitary|        ?|       married|       kids|      1992|        none|      hard-worker|Catholic|unemployed| white|    40|medium|   1.6|\n",
            "| U1005|22.183477|-100.959891| false|    abstemious|   no preference|  family|   public|        single|independent|      1992|        none|thrifty-protector|Catholic|   student| black|    65|medium|  1.69|\n",
            "| U1054|22.150683|-100.975342| false|social drinker|          formal|  family|   public|        single|independent|      1992|  technology|thrifty-protector|Catholic|   student|  blue|    59|medium|   1.7|\n",
            "| U1079|   18.917|     -99.25| false|    abstemious|          formal|  family|   public|        single|independent|      1992|  technology|thrifty-protector|Catholic|         ?| black|    53|medium|  1.55|\n",
            "| U1119| 18.96479| -99.260017| false|    abstemious|          formal|  family|   public|        single|independent|      1992|eco-friendly|thrifty-protector|Catholic|   student|  blue|    68|medium|  1.68|\n",
            "| U1127|18.943935| -99.206532| false|    abstemious|   no preference|solitary|   public|        single|independent|      1992|     variety|      hard-worker|Catholic|   student| black|    65|   low|  1.76|\n",
            "| U1058|22.205802|-100.986081| false|    abstemious|          formal|  family|   public|        single|independent|      1991|     variety|      hard-worker|Catholic|   student|   red|    74|   low|  1.78|\n",
            "+------+---------+-----------+------+--------------+----------------+--------+---------+--------------+-----------+----------+------------+-----------------+--------+----------+------+------+------+------+\n",
            "only showing top 10 rows\n",
            "\n"
          ]
        }
      ]
    },
    {
      "cell_type": "code",
      "source": [
        "#Count the number of users by drink_level\n",
        "df_sql = spark.sql(\"SELECT drink_level, COUNT(*) as count FROM users GROUP BY drink_level\")\n",
        "df_sql.show()"
      ],
      "metadata": {
        "colab": {
          "base_uri": "https://localhost:8080/"
        },
        "id": "1mU5vLlQk4HV",
        "outputId": "b92702c3-0b71-4c93-e562-4f3650868680"
      },
      "execution_count": 30,
      "outputs": [
        {
          "output_type": "stream",
          "name": "stdout",
          "text": [
            "+--------------+-----+\n",
            "|   drink_level|count|\n",
            "+--------------+-----+\n",
            "|    abstemious|   51|\n",
            "|casual drinker|   47|\n",
            "|social drinker|   40|\n",
            "+--------------+-----+\n",
            "\n"
          ]
        }
      ]
    },
    {
      "cell_type": "code",
      "source": [
        "#Count the number of users by marital_status only married\n",
        "df_ori = spark.sql(\"SELECT marital_status, COUNT(*) as count FROM users WHERE marital_status = 'married' GROUP BY marital_status\")\n",
        "df_ori.show()\n"
      ],
      "metadata": {
        "colab": {
          "base_uri": "https://localhost:8080/"
        },
        "id": "J7g8OC50lVrZ",
        "outputId": "bca443c0-4b87-4584-a4c0-47bd9804a450"
      },
      "execution_count": 34,
      "outputs": [
        {
          "output_type": "stream",
          "name": "stdout",
          "text": [
            "+--------------+-----+\n",
            "|marital_status|count|\n",
            "+--------------+-----+\n",
            "|       married|   10|\n",
            "+--------------+-----+\n",
            "\n"
          ]
        }
      ]
    },
    {
      "cell_type": "code",
      "source": [
        "#Filter drink levels with more than 2 users\n",
        "df_sql = spark.sql(\"SELECT drink_level, COUNT(*) as count FROM users GROUP BY drink_level HAVING count > 2\")\n",
        "df_sql.show()"
      ],
      "metadata": {
        "colab": {
          "base_uri": "https://localhost:8080/"
        },
        "id": "vqYexw_tnIEd",
        "outputId": "973f9e32-0216-44da-fe3c-87c994389c91"
      },
      "execution_count": 35,
      "outputs": [
        {
          "output_type": "stream",
          "name": "stdout",
          "text": [
            "+--------------+-----+\n",
            "|   drink_level|count|\n",
            "+--------------+-----+\n",
            "|    abstemious|   51|\n",
            "|casual drinker|   47|\n",
            "|social drinker|   40|\n",
            "+--------------+-----+\n",
            "\n"
          ]
        }
      ]
    },
    {
      "cell_type": "code",
      "source": [
        "from pyspark.sql import SparkSession\n",
        "from pyspark.sql.types import StructType, StructField, StringType, IntegerType\n",
        "\n",
        "spark = SparkSession.builder.appName(\"SQL Example\").getOrCreate()\n",
        "\n",
        "# Define schema\n",
        "schema = StructType([\n",
        "    StructField(\"userID\", StringType(), True),\n",
        "    StructField(\"income\", IntegerType(), True)\n",
        "])\n",
        "data = [\n",
        "    (\"U1001\", 50000),\n",
        "    (\"U1002\", 45000),\n",
        "    (\"U1003\", 60000),\n",
        "    (\"U1004\", 55000),\n",
        "    (\"U1005\", 48000)\n",
        "]\n",
        "\n",
        "# Create DataFrame\n",
        "df_income = spark.createDataFrame(data, schema=schema)\n",
        "\n",
        "# Register as SQL Table\n",
        "df_income.createOrReplaceTempView(\"income_data\")"
      ],
      "metadata": {
        "id": "8XgYC3TuwNf2"
      },
      "execution_count": 38,
      "outputs": []
    },
    {
      "cell_type": "code",
      "source": [
        "#Using JOIN with Another DataFrame\n",
        "df_income.createOrReplaceTempView(\"income_data\")\n",
        "df_sql = spark.sql(\"\"\"\n",
        "    SELECT u.userID, u.smoker, u.drink_level, i.income\n",
        "    FROM users u\n",
        "    JOIN income_data i ON u.userID = i.userID\n",
        "\"\"\")\n",
        "df_sql.show()\n"
      ],
      "metadata": {
        "colab": {
          "base_uri": "https://localhost:8080/"
        },
        "id": "tBUw-oJLvpSS",
        "outputId": "f097ecc8-2f61-45c7-c4cf-2d6258d1d642"
      },
      "execution_count": 39,
      "outputs": [
        {
          "output_type": "stream",
          "name": "stdout",
          "text": [
            "+------+------+--------------+------+\n",
            "|userID|smoker|   drink_level|income|\n",
            "+------+------+--------------+------+\n",
            "| U1001| false|    abstemious| 50000|\n",
            "| U1002| false|    abstemious| 45000|\n",
            "| U1003| false|social drinker| 60000|\n",
            "| U1004| false|    abstemious| 55000|\n",
            "| U1005| false|    abstemious| 48000|\n",
            "+------+------+--------------+------+\n",
            "\n"
          ]
        }
      ]
    }
  ]
}